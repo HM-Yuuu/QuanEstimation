{
 "cells": [
  {
   "cell_type": "code",
   "execution_count": null,
   "metadata": {},
   "outputs": [],
   "source": [
    "%reset -f\n",
    "import numpy as np\n",
    "from qutip import *\n",
    "from time import time\n",
    "from ctypes import *\n",
    "\n",
    "from Common.common import Liouville_commu, Liouville_dissip\n",
    "\n",
    "N = 12\n",
    "M = 3\n",
    "wc = 110.\n",
    "wz = 100.\n",
    "g = 1.0\n",
    "nu = 200.\n",
    "zeta = 3.113\n",
    "t = 10.0\n",
    "\n",
    "a = tensor(destroy(M), qeye(N+1)).full()\n",
    "a_dag = tensor(destroy(M), qeye(N+1)).dag().full()\n",
    "Jx = tensor(qeye(M), jmat(0.5*N, 'x')).full()\n",
    "Jy = tensor(qeye(M), jmat(0.5*N, 'y')).full()\n",
    "Jz = tensor(qeye(M), jmat(0.5*N, 'z')).full()\n",
    "H0 = wc*np.dot(a_dag, a) + wz*Jz + g*np.dot(Jx, (a_dag + a))\n",
    "Ht = zeta*nu*np.cos(nu*t)*Jz\n",
    "\n",
    "t1 = time()\n",
    "#result = Liouville_commu(H0+Ht)\n",
    "result = Liouville_dissip(a)\n",
    "t2 = time()\n",
    "print(t2-t1)\n",
    "\n",
    "#processes_num = 5\n",
    "#if __name__ == '__main__':\n",
    "    #t11 = time()\n",
    "    #result_ = Liouville_commu_(H0, processes_num)\n",
    "    #result_ = Liouville_dissip_(a, processes_num)\n",
    "    #t22 = time()\n",
    "    #print(t22-t11)"
   ]
  },
  {
   "cell_type": "code",
   "execution_count": 3,
   "metadata": {},
   "outputs": [
    {
     "data": {
      "text/plain": [
       "array([[ 0.+0.j,  0.+0.j,  0.+0.j, ...,  0.+0.j,  0.+0.j,  0.+0.j],\n",
       "       [ 0.+0.j,  0.+0.j,  0.+0.j, ...,  0.+0.j,  0.+0.j,  0.+0.j],\n",
       "       [ 0.+0.j,  0.+0.j,  0.+0.j, ...,  0.+0.j,  0.+0.j,  0.+0.j],\n",
       "       ...,\n",
       "       [ 0.+0.j,  0.+0.j,  0.+0.j, ..., -2.+0.j,  0.+0.j,  0.+0.j],\n",
       "       [ 0.+0.j,  0.+0.j,  0.+0.j, ...,  0.+0.j, -2.+0.j,  0.+0.j],\n",
       "       [ 0.+0.j,  0.+0.j,  0.+0.j, ...,  0.+0.j,  0.+0.j, -2.+0.j]])"
      ]
     },
     "execution_count": 3,
     "metadata": {},
     "output_type": "execute_result"
    }
   ],
   "source": [
    "result"
   ]
  },
  {
   "cell_type": "code",
   "execution_count": 6,
   "metadata": {},
   "outputs": [
    {
     "ename": "OSError",
     "evalue": "[WinError 193] %1 不是有效的 Win32 应用程序。",
     "output_type": "error",
     "traceback": [
      "\u001b[1;31m---------------------------------------------------------------------------\u001b[0m",
      "\u001b[1;31mOSError\u001b[0m                                   Traceback (most recent call last)",
      "\u001b[1;32m<ipython-input-6-4a4f4326090f>\u001b[0m in \u001b[0;36m<module>\u001b[1;34m\u001b[0m\n\u001b[0;32m     34\u001b[0m \u001b[0mJz_L\u001b[0m \u001b[1;33m=\u001b[0m \u001b[0mnp\u001b[0m\u001b[1;33m.\u001b[0m\u001b[0marray\u001b[0m\u001b[1;33m(\u001b[0m\u001b[0mJz_L\u001b[0m\u001b[1;33m,\u001b[0m \u001b[0mdtype\u001b[0m \u001b[1;33m=\u001b[0m \u001b[0mnp\u001b[0m\u001b[1;33m.\u001b[0m\u001b[0mfloat\u001b[0m\u001b[1;33m)\u001b[0m\u001b[1;33m\u001b[0m\u001b[1;33m\u001b[0m\u001b[0m\n\u001b[0;32m     35\u001b[0m \u001b[1;33m\u001b[0m\u001b[0m\n\u001b[1;32m---> 36\u001b[1;33m \u001b[0mlib\u001b[0m \u001b[1;33m=\u001b[0m \u001b[0mcdll\u001b[0m\u001b[1;33m.\u001b[0m\u001b[0mLoadLibrary\u001b[0m\u001b[1;33m(\u001b[0m\u001b[1;34m\"liouv_test_n6.dll\"\u001b[0m\u001b[1;33m)\u001b[0m\u001b[1;33m\u001b[0m\u001b[1;33m\u001b[0m\u001b[0m\n\u001b[0m\u001b[0;32m     37\u001b[0m lib.Liouville_dissip.argtypes = [np.ctypeslib.ndpointer(dtype = np.float, ndim = 2, flags=\"C_CONTIGUOUS\"),\\\n\u001b[0;32m     38\u001b[0m                                  c_int, np.ctypeslib.ndpointer(dtype = np.float, ndim = 2, flags=\"C_CONTIGUOUS\")]\n",
      "\u001b[1;32mC:\\desktop_applications\\anaconda\\lib\\ctypes\\__init__.py\u001b[0m in \u001b[0;36mLoadLibrary\u001b[1;34m(self, name)\u001b[0m\n\u001b[0;32m    440\u001b[0m \u001b[1;33m\u001b[0m\u001b[0m\n\u001b[0;32m    441\u001b[0m     \u001b[1;32mdef\u001b[0m \u001b[0mLoadLibrary\u001b[0m\u001b[1;33m(\u001b[0m\u001b[0mself\u001b[0m\u001b[1;33m,\u001b[0m \u001b[0mname\u001b[0m\u001b[1;33m)\u001b[0m\u001b[1;33m:\u001b[0m\u001b[1;33m\u001b[0m\u001b[1;33m\u001b[0m\u001b[0m\n\u001b[1;32m--> 442\u001b[1;33m         \u001b[1;32mreturn\u001b[0m \u001b[0mself\u001b[0m\u001b[1;33m.\u001b[0m\u001b[0m_dlltype\u001b[0m\u001b[1;33m(\u001b[0m\u001b[0mname\u001b[0m\u001b[1;33m)\u001b[0m\u001b[1;33m\u001b[0m\u001b[1;33m\u001b[0m\u001b[0m\n\u001b[0m\u001b[0;32m    443\u001b[0m \u001b[1;33m\u001b[0m\u001b[0m\n\u001b[0;32m    444\u001b[0m \u001b[0mcdll\u001b[0m \u001b[1;33m=\u001b[0m \u001b[0mLibraryLoader\u001b[0m\u001b[1;33m(\u001b[0m\u001b[0mCDLL\u001b[0m\u001b[1;33m)\u001b[0m\u001b[1;33m\u001b[0m\u001b[1;33m\u001b[0m\u001b[0m\n",
      "\u001b[1;32mC:\\desktop_applications\\anaconda\\lib\\ctypes\\__init__.py\u001b[0m in \u001b[0;36m__init__\u001b[1;34m(self, name, mode, handle, use_errno, use_last_error)\u001b[0m\n\u001b[0;32m    362\u001b[0m \u001b[1;33m\u001b[0m\u001b[0m\n\u001b[0;32m    363\u001b[0m         \u001b[1;32mif\u001b[0m \u001b[0mhandle\u001b[0m \u001b[1;32mis\u001b[0m \u001b[1;32mNone\u001b[0m\u001b[1;33m:\u001b[0m\u001b[1;33m\u001b[0m\u001b[1;33m\u001b[0m\u001b[0m\n\u001b[1;32m--> 364\u001b[1;33m             \u001b[0mself\u001b[0m\u001b[1;33m.\u001b[0m\u001b[0m_handle\u001b[0m \u001b[1;33m=\u001b[0m \u001b[0m_dlopen\u001b[0m\u001b[1;33m(\u001b[0m\u001b[0mself\u001b[0m\u001b[1;33m.\u001b[0m\u001b[0m_name\u001b[0m\u001b[1;33m,\u001b[0m \u001b[0mmode\u001b[0m\u001b[1;33m)\u001b[0m\u001b[1;33m\u001b[0m\u001b[1;33m\u001b[0m\u001b[0m\n\u001b[0m\u001b[0;32m    365\u001b[0m         \u001b[1;32melse\u001b[0m\u001b[1;33m:\u001b[0m\u001b[1;33m\u001b[0m\u001b[1;33m\u001b[0m\u001b[0m\n\u001b[0;32m    366\u001b[0m             \u001b[0mself\u001b[0m\u001b[1;33m.\u001b[0m\u001b[0m_handle\u001b[0m \u001b[1;33m=\u001b[0m \u001b[0mhandle\u001b[0m\u001b[1;33m\u001b[0m\u001b[1;33m\u001b[0m\u001b[0m\n",
      "\u001b[1;31mOSError\u001b[0m: [WinError 193] %1 不是有效的 Win32 应用程序。"
     ]
    }
   ],
   "source": [
    "%reset -f\n",
    "from qutip import *\n",
    "from ctypes import *\n",
    "import numpy as np\n",
    "\n",
    "Num= 6\n",
    "Nc=3\n",
    "num = Num\n",
    "J  = 0.5*Num\n",
    "dim_a = Num + 1\n",
    "dim_c = Nc\n",
    "dim = (Num + 1)*Nc\n",
    "        \n",
    "a = tensor(destroy(Nc), qeye(Num+1)).full()\n",
    "        #a_L = self.Liouville_dissip(a)\n",
    "a = np.real(a)\n",
    "        \n",
    "a = np.array(a, dtype = np.float)\n",
    "        \n",
    "a_L = qeye(dim*dim).full()\n",
    "        \n",
    "a_L = np.real(a_L)\n",
    "a_L = np.array(a_L, dtype = np.float)\n",
    "        \n",
    "        \n",
    "Jz1 = tensor(qeye(Nc), jmat(0.5*Num, 'z')).full()\n",
    "Jz1 = np.real(Jz1)\n",
    "        \n",
    "Jz1 = np.array(Jz1, dtype = np.float)\n",
    "        \n",
    "Jz_L = qeye(dim*dim).full()\n",
    "        \n",
    "Jz_L = np.real(Jz_L) \n",
    "Jz_L = np.array(Jz_L, dtype = np.float)\n",
    "        \n",
    "lib = cdll.LoadLibrary(\"liouv_test_n6.dll\")\n",
    "lib.Liouville_dissip.argtypes = [np.ctypeslib.ndpointer(dtype = np.float, ndim = 2, flags=\"C_CONTIGUOUS\"),\\\n",
    "                                 c_int, np.ctypeslib.ndpointer(dtype = np.float, ndim = 2, flags=\"C_CONTIGUOUS\")]\n",
    "           \n",
    "lib.Liouville_dissip(a, c_int(self.dim), a_L)    #c函数调用\n",
    "        \n",
    "lib.Liouville_dissip(Jz1, c_int(self.dim), Jz_L)    #c函数调用"
   ]
  },
  {
   "cell_type": "code",
   "execution_count": null,
   "metadata": {},
   "outputs": [],
   "source": []
  }
 ],
 "metadata": {
  "kernelspec": {
   "display_name": "Python 3",
   "language": "python",
   "name": "python3"
  },
  "language_info": {
   "codemirror_mode": {
    "name": "ipython",
    "version": 3
   },
   "file_extension": ".py",
   "mimetype": "text/x-python",
   "name": "python",
   "nbconvert_exporter": "python",
   "pygments_lexer": "ipython3",
   "version": "3.7.6"
  }
 },
 "nbformat": 4,
 "nbformat_minor": 4
}
