{
 "cells": [
  {
   "cell_type": "markdown",
   "metadata": {},
   "source": [
    "# Measurement optimization in single qubit system (single parameter)"
   ]
  },
  {
   "cell_type": "markdown",
   "metadata": {},
   "source": [
    "This is the source codes for the example discussed in Sec. VI in Ref. [1].\n",
    "\n",
    "A single qubit system whose dynamics is governed by\n",
    "\\begin{align}\n",
    "\\partial_t\\rho=-i[H, \\rho]+ \\gamma_{+}\\left(\\sigma_{+}\\rho\\sigma_{-}-\\frac{1}{2}\\{\\sigma_{-}\\sigma_{+},\\rho\\}\\right)+ \\gamma_{-}\\left(\\sigma_{-}\\rho\\sigma_{+}-\\frac{1}{2}\\{\\sigma_{+}\\sigma_{-},\\rho\\}\\right),\n",
    "\\end{align}\n",
    "\n",
    "where $H = \\frac{1}{2}\\omega_0 \\sigma_3$ is the free Hamiltonian with $\\omega_0$ the frequency, $\\sigma_{\\pm}=(\\sigma_1 \\pm \\sigma_2)/2$ and $\\gamma_{+}$, $\\gamma_{-}$ are decay rates.\n",
    "Here $\\sigma_{i}$ for $(i=1,2,3)$ is the  Pauli matrix.\n",
    "\n",
    "In this case, the probe state is taken as $\\frac{1}{\\sqrt{2}}(|0\\rangle +|1\\rangle)$, $|0\\rangle$ $(|1\\rangle)$ is the \n",
    "eigenstate of $\\sigma_3$ with respect to the eigenvalue $1$ $(-1)$. Here we use algorithms to obtain the optimal \n",
    "projective measurements.\n",
    "\n",
    "[1] M. Zhang et al., QuanEstimation: an open-source toolkit for quantum parameter estimation,\n",
    "arXiv:2022.xxxx."
   ]
  },
  {
   "cell_type": "code",
   "execution_count": null,
   "metadata": {},
   "outputs": [],
   "source": [
    "from quanestimation import *\n",
    "import numpy as np\n",
    "\n",
    "# initial state\n",
    "rho0 = 0.5*np.array([[1.,1.],[1.,1.]])\n",
    "# free Hamiltonian\n",
    "omega0 = 1.0\n",
    "sx = np.array([[0., 1.],[1., 0.]])\n",
    "sy = np.array([[0., -1.j],[1.j, 0.]]) \n",
    "sz = np.array([[1., 0.],[0., -1.]])\n",
    "H0 = 0.5*omega0*sz\n",
    "# derivative of the free Hamiltonian on omega0\n",
    "dH = [0.5*sz]\n",
    "# dissipation\n",
    "sp = np.array([[0., 1.],[0., 0.]])  \n",
    "sm = np.array([[0., 0.],[1., 0.]]) \n",
    "decay = [[sp, 0.0],[sm, 0.1]]\n",
    "# time length for the evolution\n",
    "tspan = np.linspace(0., 20.0, 5000)"
   ]
  },
  {
   "cell_type": "markdown",
   "metadata": {},
   "source": [
    "Measurement optimization algorithm: PSO"
   ]
  },
  {
   "cell_type": "code",
   "execution_count": null,
   "metadata": {},
   "outputs": [],
   "source": [
    "PSO_paras = {\"particle_num\":10, \"measurement0\":[], \"max_episode\":[50,10], \"c0\":1.0, \"c1\":2.0, \"c2\":2.0, \"seed\":1234}\n",
    "m = MeasurementOpt(mtype='projection', minput=[], savefile=False, method=\"PSO\", **PSO_paras)\n",
    "m.dynamics(tspan, rho0, H0, dH, decay=decay)\n",
    "m.CFIM()"
   ]
  },
  {
   "cell_type": "markdown",
   "metadata": {},
   "source": [
    "Measurement optimization algorithm: DE"
   ]
  },
  {
   "cell_type": "code",
   "execution_count": null,
   "metadata": {},
   "outputs": [],
   "source": [
    "DE_paras = {\"popsize\":10, \"measurement0\":[], \"max_episode\":10, \"c\":1.0, \"cr\":0.5, \"seed\":1234}\n",
    "m = MeasurementOpt(mtype='projection', minput=[], savefile=False, method=\"DE\", **DE_paras)\n",
    "m.dynamics(tspan, rho0, H0, dH, decay=decay)\n",
    "m.CFIM()"
   ]
  }
 ],
 "metadata": {
  "kernelspec": {
   "display_name": "Python 3",
   "language": "python",
   "name": "python3"
  },
  "language_info": {
   "codemirror_mode": {
    "name": "ipython",
    "version": 3
   },
   "file_extension": ".py",
   "mimetype": "text/x-python",
   "name": "python",
   "nbconvert_exporter": "python",
   "pygments_lexer": "ipython3",
   "version": "3.7.6"
  }
 },
 "nbformat": 4,
 "nbformat_minor": 4
}
