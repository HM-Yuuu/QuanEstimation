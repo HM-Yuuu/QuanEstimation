{
 "cells": [
  {
   "cell_type": "markdown",
   "metadata": {},
   "source": [
    "# Control optimization in single qubit system (single parameter)"
   ]
  },
  {
   "cell_type": "markdown",
   "metadata": {},
   "source": [
    "This is the source codes for the example discussed in Sec. IV A-D in Ref. [1].\n",
    "\n",
    "The Hamiltonian of a controlled system can be written as\n",
    "\n",
    "$$H = H_0(\\textbf{x})+\\sum_{k=1}^K u_k(t) H_k,$$\n",
    "\n",
    "where $H_0(\\textbf{x})$ is the free evolution Hamiltonian with unknown parameters $\\textbf{x}$ and $H_k$ \n",
    "represent the $k$th control Hamiltonian with $u_k$ the corresponding control field.\n",
    "\n",
    "In this example, the free evolution Hamiltonian of a single qubit system is $H_0 = \\frac{1}{2}\\omega_0 \\sigma_3$ with \n",
    "$\\omega_0$ the frequency and $\\sigma_3$ a Pauli matrix. The dynamics of the system is governed by\n",
    "$$\\partial_t\\rho=-i[H_0, \\rho]+ \\gamma_{+}\\left(\\sigma_{+}\\rho\\sigma_{-}-\\frac{1}{2}\\{\\sigma_{-}\\sigma_{+},\\rho\\}\\right)+ \\gamma_{-}\\left(\\sigma_{-}\\rho\\sigma_{+}-\\frac{1}{2}\\{\\sigma_{+}\\sigma_{-},\\rho\\}\\right),$$\n",
    "where $\\gamma_{+}$, $\\gamma_{-}$ are decay rates and $\\sigma_{\\pm}=(\\sigma_1 \\pm \\sigma_2)/2$. The control Hamiltonian \n",
    "\n",
    "$$H_\\mathrm{c}=u_1(t)\\sigma_1+u_2(t)\\sigma_2+u_3(t)\\sigma_3.$$\n",
    "\n",
    "Here $\\sigma_{1}$, $\\sigma_{2}$ are also Pauli matrices. The probe state is taken as $|+\\rangle$ and the measurement for CFI is $\\{|+\\rangle\\langle+|, |-\\rangle\\langle-|\\}$ with\n",
    "$|\\pm\\rangle:=\\frac{1}{\\sqrt{2}}(|0\\rangle\\pm|1\\rangle)$. Here $|0\\rangle(|1\\rangle)$ is the eigenstate of $\\sigma_3$ with respect to the eigenvalue $1(-1)$.\n",
    "\n",
    "[1] M. Zhang et al., QuanEstimation: an open-source toolkit for quantum parameter estimation,\n",
    "arXiv:2022.xxxx."
   ]
  },
  {
   "cell_type": "code",
   "execution_count": 1,
   "metadata": {},
   "outputs": [],
   "source": [
    "from quanestimation import *\n",
    "import numpy as np\n",
    "\n",
    "# initial state\n",
    "rho0 = 0.5*np.array([[1., 1.],[1., 1.]])\n",
    "# free Hamiltonian\n",
    "omega0 = 1.0\n",
    "sx = np.array([[0., 1.],[1., 0.]])\n",
    "sy = np.array([[0., -1.j],[1.j, 0.]]) \n",
    "sz = np.array([[1., 0.],[0., -1.]])\n",
    "H0 = 0.5*omega0*sz\n",
    "# derivative of the free Hamiltonian on omega0\n",
    "dH = [0.5*sz]\n",
    "# control Hamiltonians \n",
    "Hc = [sx,sy,sz]\n",
    "# dissipation\n",
    "sp = np.array([[0., 1.],[0., 0.]])  \n",
    "sm = np.array([[0., 0.],[1., 0.]]) \n",
    "decay = [[sp, 0.0],[sm, 0.1]]\n",
    "# measurement\n",
    "M1 = 0.5*np.array([[1., 1.],[1., 1.]])\n",
    "M2 = 0.5*np.array([[1.,-1.],[-1., 1.]])\n",
    "M = [M1, M2]\n",
    "# time length for the evolution\n",
    "tspan = np.linspace(0., 10.0, 2500)\n",
    "# guessed control coefficients\n",
    "cnum = len(tspan)-1\n",
    "ctrl0 = [np.array([np.zeros(cnum), np.zeros(cnum), np.zeros(cnum)])]"
   ]
  },
  {
   "cell_type": "markdown",
   "metadata": {},
   "source": [
    "Control algorithm: GRAPE"
   ]
  },
  {
   "cell_type": "code",
   "execution_count": 3,
   "metadata": {},
   "outputs": [],
   "source": [
    "GRAPE_paras = {\"Adam\":True, \"ctrl0\":ctrl0, \"max_episode\":300, \"epsilon\":0.01, \"beta1\":0.90, \"beta2\":0.99}\n",
    "control = ControlOpt(savefile=False, method=\"GRAPE\", **GRAPE_paras)\n",
    "control.dynamics(tspan, rho0, H0, dH, Hc, decay=decay, ctrl_bound=[-2.0, 2.0])"
   ]
  },
  {
   "cell_type": "code",
   "execution_count": null,
   "metadata": {},
   "outputs": [],
   "source": [
    "# choose QFIM as the objective function\n",
    "control.QFIM()"
   ]
  },
  {
   "cell_type": "code",
   "execution_count": null,
   "metadata": {},
   "outputs": [],
   "source": [
    "# choose CFIM as the objective function\n",
    "control.CFIM(M=M)"
   ]
  },
  {
   "cell_type": "markdown",
   "metadata": {},
   "source": [
    "Control algorithm: auto-GRAPE"
   ]
  },
  {
   "cell_type": "code",
   "execution_count": null,
   "metadata": {},
   "outputs": [],
   "source": [
    "GRAPE_paras = {\"Adam\":False, \"ctrl0\":ctrl0, \"max_episode\":300, \"epsilon\":0.01, \"beta1\":0.90, \"beta2\":0.99}\n",
    "control = ControlOpt(savefile=False, method=\"auto-GRAPE\", **GRAPE_paras)\n",
    "control.dynamics(tspan, rho0, H0, dH, Hc, decay=decay, ctrl_bound=[-2.0, 2.0])"
   ]
  },
  {
   "cell_type": "code",
   "execution_count": null,
   "metadata": {},
   "outputs": [],
   "source": [
    "# choose QFIM as the objective function\n",
    "control.QFIM()"
   ]
  },
  {
   "cell_type": "code",
   "execution_count": null,
   "metadata": {},
   "outputs": [],
   "source": [
    "# choose CFIM as the objective function\n",
    "control.CFIM(M=M)"
   ]
  },
  {
   "cell_type": "markdown",
   "metadata": {},
   "source": [
    "Control algorithm: PSO"
   ]
  },
  {
   "cell_type": "code",
   "execution_count": null,
   "metadata": {},
   "outputs": [],
   "source": [
    "PSO_paras = {\"particle_num\":10, \"ctrl0\":ctrl0, \"max_episode\":[1000,100], \"c0\":1.0, \"c1\":2.0, \"c2\":2.0, \"seed\":1234}\n",
    "control = ControlOpt(savefile=False, method=\"PSO\", **PSO_paras)\n",
    "control.dynamics(tspan, rho0, H0, dH, Hc, decay=decay, ctrl_bound=[-2.0, 2.0])"
   ]
  },
  {
   "cell_type": "code",
   "execution_count": null,
   "metadata": {},
   "outputs": [],
   "source": [
    "# choose QFIM as the objective function\n",
    "control.QFIM()"
   ]
  },
  {
   "cell_type": "code",
   "execution_count": null,
   "metadata": {},
   "outputs": [],
   "source": [
    "# choose CFIM as the objective function\n",
    "control.CFIM(M=M)"
   ]
  },
  {
   "cell_type": "markdown",
   "metadata": {},
   "source": [
    "Control algorithm: DE"
   ]
  },
  {
   "cell_type": "code",
   "execution_count": null,
   "metadata": {},
   "outputs": [],
   "source": [
    "DE_paras = {\"popsize\":10, \"ctrl0\":ctrl0, \"max_episode\":1000, \"c\":1.0, \"cr\":0.5, \"seed\":1234}\n",
    "control = ControlOpt(savefile=False, method=\"DE\", **DE_paras)\n",
    "control.dynamics(tspan, rho0, H0, dH, Hc, decay=decay, ctrl_bound=[-2.0, 2.0])"
   ]
  },
  {
   "cell_type": "code",
   "execution_count": null,
   "metadata": {},
   "outputs": [],
   "source": [
    "# choose QFIM as the objective function\n",
    "control.QFIM()"
   ]
  },
  {
   "cell_type": "code",
   "execution_count": null,
   "metadata": {},
   "outputs": [],
   "source": [
    "# choose CFIM as the objective function\n",
    "control.CFIM(M=M)"
   ]
  },
  {
   "cell_type": "markdown",
   "metadata": {},
   "source": [
    "Control algorithm: DDPG"
   ]
  },
  {
   "cell_type": "code",
   "execution_count": null,
   "metadata": {},
   "outputs": [],
   "source": [
    "DDPG_paras = {\"layer_num\":4, \"layer_dim\":250, \"max_episode\":500, \"seed\":1234}\n",
    "control = ControlOpt(savefile=False, method=\"DDPG\", **DDPG_paras)\n",
    "control.dynamics(tspan, rho0, H0, dH, Hc, decay=decay, ctrl_bound=[-2.0, 2.0])"
   ]
  },
  {
   "cell_type": "code",
   "execution_count": null,
   "metadata": {},
   "outputs": [],
   "source": [
    "# choose QFIM as the objective function\n",
    "control.QFIM()"
   ]
  },
  {
   "cell_type": "code",
   "execution_count": null,
   "metadata": {},
   "outputs": [],
   "source": [
    "# choose CFIM as the objective function\n",
    "control.CFIM(M=M)"
   ]
  }
 ],
 "metadata": {
  "kernelspec": {
   "display_name": "Python 3",
   "language": "python",
   "name": "python3"
  },
  "language_info": {
   "codemirror_mode": {
    "name": "ipython",
    "version": 3
   },
   "file_extension": ".py",
   "mimetype": "text/x-python",
   "name": "python",
   "nbconvert_exporter": "python",
   "pygments_lexer": "ipython3",
   "version": "3.10.2"
  }
 },
 "nbformat": 4,
 "nbformat_minor": 4
}
