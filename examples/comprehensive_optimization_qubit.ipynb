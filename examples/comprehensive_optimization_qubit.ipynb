{
 "cells": [
  {
   "cell_type": "markdown",
   "metadata": {},
   "source": [
    "# Comprehensive optimization in single qubit system (single parameter)"
   ]
  },
  {
   "cell_type": "markdown",
   "metadata": {},
   "source": [
    "This is the source codes for the example discussed in Sec. VII in Ref. [1].\n",
    "\n",
    "A single qubit system whose free evolution Hamiltonian is $H_0 = \\frac{1}{2}\\omega_0 \\sigma_3$ with \n",
    "$\\omega_0$ the frequency and $\\sigma_3$ a Pauli matrix. The dynamics of the system is governed by\n",
    "\\begin{align}\n",
    "\\partial_t\\rho=-i[H_0, \\rho]+ \\gamma_{+}\\left(\\sigma_{+}\\rho\\sigma_{-}-\\frac{1}{2}\\{\\sigma_{-}\\sigma_{+},\\rho\\}\\right)+ \\gamma_{-}\\left(\\sigma_{-}\\rho\\sigma_{+}-\\frac{1}{2}\\{\\sigma_{+}\\sigma_{-},\\rho\\}\\right),\n",
    "\\end{align}\n",
    "\n",
    "where $\\gamma_{+}$, $\\gamma_{-}$ are decay rates and $\\sigma_{\\pm}=(\\sigma_1 \\pm \\sigma_2)/2$. The control Hamiltonian\n",
    "\\begin{align}\n",
    "H_\\mathrm{c}=u_1(t)\\sigma_1+u_2(t)\\sigma_2+u_3(t)\\sigma_3\n",
    "\\end{align}\n",
    "\n",
    "with $u_i(t)$ $(i=1,2,3)$ the control field. Here $\\sigma_{1}$, $\\sigma_{2}$ are also Pauli matrices.\n",
    "\n",
    "In this case, we consider two types of comprehensive optimization, the first one is optimization of probe state and control (SC), and the other is optimization of probe state, control and measurement (SCM). QFI is taken as the target function for SC and CFI for SCM.\n",
    "\n",
    "[1] M. Zhang et al., QuanEstimation: an open-source toolkit for quantum parameter estimation,\n",
    "arXiv:2022.xxxx."
   ]
  },
  {
   "cell_type": "code",
   "execution_count": null,
   "metadata": {},
   "outputs": [],
   "source": [
    "from quanestimation import *\n",
    "import numpy as np\n",
    "\n",
    "# free Hamiltonian\n",
    "omega0 = 1.0\n",
    "sx = np.array([[0., 1.],[1., 0.0j]])\n",
    "sy = np.array([[0., -1.j],[1.j, 0.]]) \n",
    "sz = np.array([[1., 0.0j],[0., -1.]])\n",
    "H0 = 0.5*omega0*sz\n",
    "# derivative of the free Hamiltonian on omega0\n",
    "dH = [0.5*sz]\n",
    "# control Hamiltonians \n",
    "Hc = [sx,sy,sz]\n",
    "# guessed control coefficients\n",
    "cnum = len(tspan)-1\n",
    "ctrl0 = [np.array([np.zeros(cnum), np.zeros(cnum), np.zeros(cnum)])]\n",
    "# dissipation\n",
    "sp = np.array([[0., 1.],[0., 0.0j]])  \n",
    "sm = np.array([[0., 0.0j],[1., 0.]]) \n",
    "decay = [[sp, 0.0],[sm, 0.1]]\n",
    "# measurement\n",
    "M1 = 0.5*np.array([[1., 1.],[1., 1.]])\n",
    "M2 = 0.5*np.array([[1.,-1.],[-1., 1.]])\n",
    "M = [M1, M2]\n",
    "# time length for the evolution\n",
    "tspan = np.linspace(0., 20.0, 5000)"
   ]
  },
  {
   "cell_type": "markdown",
   "metadata": {},
   "source": [
    "comprehensive optimization algorithm: DE"
   ]
  },
  {
   "cell_type": "code",
   "execution_count": null,
   "metadata": {},
   "outputs": [],
   "source": [
    "DE_paras = {\"popsize\":10, \"psi0\":[], \"ctrl0\":ctrl0, \"measurement0\":[], \"max_episode\":100, \"c\":1.0, \"cr\":0.5, \"seed\":1234}\n",
    "com = ComprehensiveOpt(savefile=False, method=\"DE\", **DE_paras)\n",
    "com.dynamics(tspan, H0, dH, Hc, decay=decay, ctrl_bound=[-2.0, 2.0])"
   ]
  },
  {
   "cell_type": "code",
   "execution_count": null,
   "metadata": {},
   "outputs": [],
   "source": [
    "# comprehensive optimization for state and control (SC)\n",
    "com.SC(W=[], target=\"QFIM\", LDtype=\"SLD\")"
   ]
  },
  {
   "cell_type": "code",
   "execution_count": null,
   "metadata": {},
   "outputs": [],
   "source": [
    "# comprehensive optimization for state, control and measurement (SCM)\n",
    "com.SCM()"
   ]
  }
 ],
 "metadata": {
  "kernelspec": {
   "display_name": "Python 3",
   "language": "python",
   "name": "python3"
  },
  "language_info": {
   "codemirror_mode": {
    "name": "ipython",
    "version": 3
   },
   "file_extension": ".py",
   "mimetype": "text/x-python",
   "name": "python",
   "nbconvert_exporter": "python",
   "pygments_lexer": "ipython3",
   "version": "3.7.6"
  }
 },
 "nbformat": 4,
 "nbformat_minor": 4
}
