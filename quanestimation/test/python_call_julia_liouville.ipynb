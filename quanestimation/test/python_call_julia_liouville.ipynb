{
 "cells": [
  {
   "cell_type": "code",
   "execution_count": 8,
   "metadata": {
    "scrolled": false
   },
   "outputs": [
    {
     "name": "stdout",
     "output_type": "stream",
     "text": [
      "[[ 0. +0.j  0. +0.j  0. +0.j  0. +0.j]\n",
      " [ 0. +0.j -0.5-0.j  0. +0.j  0. +0.j]\n",
      " [ 0. +0.j  0. +0.j -0.5+0.j  0. +0.j]\n",
      " [ 0. +0.j  0. +0.j  0. +0.j  0. +0.j]]\n",
      "[[ 0.+0.j -0.-0.j -0.-0.j ...  0.+0.j  0.+0.j  0.+0.j]\n",
      " [-0.-0.j  0.+0.j -0.-0.j ...  0.+0.j  0.+0.j  0.+0.j]\n",
      " [-0.-0.j -0.-0.j  0.+0.j ...  0.+0.j  0.+0.j  0.+0.j]\n",
      " ...\n",
      " [ 0.+0.j  0.+0.j  0.+0.j ...  0.+0.j -0.-0.j -0.-0.j]\n",
      " [ 0.+0.j  0.+0.j  0.+0.j ... -0.-0.j  0.+0.j -0.-0.j]\n",
      " [ 0.+0.j  0.+0.j  0.+0.j ... -0.-0.j -0.-0.j  0.+0.j]]\n",
      "0.1326456069946289\n"
     ]
    }
   ],
   "source": [
    "%reset -f\n",
    "import numpy as np\n",
    "from qutip import *\n",
    "from time import time\n",
    "\n",
    "import julia\n",
    "#julia.install()\n",
    "from julia import Main\n",
    "\n",
    "N = 6\n",
    "M = 7\n",
    "a = tensor(destroy(M), qeye(N+1)).full()\n",
    "\n",
    "Main.include('./'+'Common'+'/'+'Liouville.jl')\n",
    "t1 = time()\n",
    "result1 = Main.Liouville.liouville_dissip(a)\n",
    "t2 = time()\n",
    "result2 = Main.Liouville.liouville_commu(a)\n",
    "print(result1)\n",
    "print(result2)\n",
    "print(t2-t1)"
   ]
  },
  {
   "cell_type": "code",
   "execution_count": 14,
   "metadata": {},
   "outputs": [
    {
     "name": "stdout",
     "output_type": "stream",
     "text": [
      "0.109375 KB\n"
     ]
    }
   ],
   "source": [
    "import sys\n",
    "print(sys.getsizeof(result1)/1024, 'KB')"
   ]
  },
  {
   "cell_type": "code",
   "execution_count": 21,
   "metadata": {},
   "outputs": [
    {
     "name": "stdout",
     "output_type": "stream",
     "text": [
      "2401\n"
     ]
    }
   ],
   "source": [
    "print(len(result1))"
   ]
  },
  {
   "cell_type": "code",
   "execution_count": 7,
   "metadata": {},
   "outputs": [
    {
     "name": "stdout",
     "output_type": "stream",
     "text": [
      "eseries 1\n",
      "QobjEvo 1\n",
      "Bloch 1\n",
      "Bloch3d 1\n",
      "MidpointNorm 1\n",
      "Distribution 1\n",
      "WignerDistribution 1\n",
      "QDistribution 1\n",
      "TwoModeQuadratureCorrelation 1\n",
      "HarmonicOscillatorWaveFunction 1\n",
      "HarmonicOscillatorProbabilityFunction 1\n",
      "Options 1\n",
      "Odeoptions 1\n",
      "Odedata 1\n",
      "ExpectOps 1\n",
      "Cubic_Spline 1\n",
      "Lattice1d 1\n",
      "Gate 1\n",
      "QubitCircuit 1\n",
      "a 37\n"
     ]
    }
   ],
   "source": [
    "def show_memory(unit='KB', threshold=1):\n",
    "    from sys import getsizeof\n",
    "    scale = {'B': 1, 'KB': 1024, 'MB': 1048576, 'GB': 1073741824}[unit]\n",
    "    for i in list(globals().keys()):\n",
    "        memory = eval(\"getsizeof({})\".format(i)) // scale\n",
    "        if memory >= threshold:\n",
    "            print(i, memory)\n",
    "show_memory()"
   ]
  },
  {
   "cell_type": "code",
   "execution_count": 48,
   "metadata": {},
   "outputs": [
    {
     "ename": "AttributeError",
     "evalue": "Julia: UndefVarError: liouville_dissip not defined",
     "output_type": "error",
     "traceback": [
      "\u001b[1;31m---------------------------------------------------------------------------\u001b[0m",
      "\u001b[1;31mAttributeError\u001b[0m                            Traceback (most recent call last)",
      "\u001b[1;32m<ipython-input-48-f27d509be24e>\u001b[0m in \u001b[0;36m<module>\u001b[1;34m\u001b[0m\n\u001b[0;32m      9\u001b[0m \u001b[0ma\u001b[0m \u001b[1;33m=\u001b[0m \u001b[0mtensor\u001b[0m\u001b[1;33m(\u001b[0m\u001b[0mdestroy\u001b[0m\u001b[1;33m(\u001b[0m\u001b[0mM\u001b[0m\u001b[1;33m)\u001b[0m\u001b[1;33m,\u001b[0m \u001b[0mqeye\u001b[0m\u001b[1;33m(\u001b[0m\u001b[0mN\u001b[0m\u001b[1;33m+\u001b[0m\u001b[1;36m1\u001b[0m\u001b[1;33m)\u001b[0m\u001b[1;33m)\u001b[0m\u001b[1;33m.\u001b[0m\u001b[0mfull\u001b[0m\u001b[1;33m(\u001b[0m\u001b[1;33m)\u001b[0m\u001b[1;33m\u001b[0m\u001b[1;33m\u001b[0m\u001b[0m\n\u001b[0;32m     10\u001b[0m \u001b[1;33m\u001b[0m\u001b[0m\n\u001b[1;32m---> 11\u001b[1;33m \u001b[0mresult\u001b[0m \u001b[1;33m=\u001b[0m \u001b[0mliouville\u001b[0m\u001b[1;33m.\u001b[0m\u001b[0mliouville_dissip\u001b[0m\u001b[1;33m(\u001b[0m\u001b[0ma\u001b[0m\u001b[1;33m)\u001b[0m\u001b[1;33m\u001b[0m\u001b[1;33m\u001b[0m\u001b[0m\n\u001b[0m",
      "\u001b[1;31mAttributeError\u001b[0m: Julia: UndefVarError: liouville_dissip not defined"
     ]
    }
   ],
   "source": [
    "%reset -f\n",
    "import juliacall\n",
    "from juliacall import Main as jl\n",
    "from qutip import *\n",
    "\n",
    "liouville = juliacall.newmodule(\"Liouville\")\n",
    "N = 12\n",
    "M = 3\n",
    "a = tensor(destroy(M), qeye(N+1)).full()\n",
    "\n",
    "result = liouville.liouville_dissip(a)\n"
   ]
  },
  {
   "cell_type": "code",
   "execution_count": null,
   "metadata": {},
   "outputs": [],
   "source": []
  }
 ],
 "metadata": {
  "kernelspec": {
   "display_name": "Python 3",
   "language": "python",
   "name": "python3"
  },
  "language_info": {
   "codemirror_mode": {
    "name": "ipython",
    "version": 3
   },
   "file_extension": ".py",
   "mimetype": "text/x-python",
   "name": "python",
   "nbconvert_exporter": "python",
   "pygments_lexer": "ipython3",
   "version": "3.7.6"
  }
 },
 "nbformat": 4,
 "nbformat_minor": 4
}
