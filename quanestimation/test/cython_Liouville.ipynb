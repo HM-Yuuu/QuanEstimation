{
 "cells": [
  {
   "cell_type": "code",
   "execution_count": 1,
   "metadata": {},
   "outputs": [
    {
     "name": "stdout",
     "output_type": "stream",
     "text": [
      "417.58793592453003\n"
     ]
    }
   ],
   "source": [
    "%reset -f\n",
    "import numpy as np\n",
    "from qutip import *\n",
    "from time import time\n",
    "\n",
    "from Common.common import Liouville_commu, Liouville_dissip\n",
    "\n",
    "N = 12\n",
    "M = 3\n",
    "wc = 110.\n",
    "wz = 100.\n",
    "g = 1.0\n",
    "nu = 200.\n",
    "zeta = 3.113\n",
    "t = 10.0\n",
    "\n",
    "a = tensor(destroy(M), qeye(N+1)).full()\n",
    "a_dag = tensor(destroy(M), qeye(N+1)).dag().full()\n",
    "Jx = tensor(qeye(M), jmat(0.5*N, 'x')).full()\n",
    "Jy = tensor(qeye(M), jmat(0.5*N, 'y')).full()\n",
    "Jz = tensor(qeye(M), jmat(0.5*N, 'z')).full()\n",
    "H0 = wc*np.dot(a_dag, a) + wz*Jz + g*np.dot(Jx, (a_dag + a))\n",
    "Ht = zeta*nu*np.cos(nu*t)*Jz\n",
    "\n",
    "t1 = time()\n",
    "#result = Liouville_commu(H0+Ht)\n",
    "result = Liouville_dissip(a)\n",
    "t2 = time()\n",
    "print(t2-t1)\n",
    "\n",
    "#processes_num = 5\n",
    "#if __name__ == '__main__':\n",
    "    #t11 = time()\n",
    "    #result_ = Liouville_commu_(H0, processes_num)\n",
    "    #result_ = Liouville_dissip_(a, processes_num)\n",
    "    #t22 = time()\n",
    "    #print(t22-t11)"
   ]
  },
  {
   "cell_type": "code",
   "execution_count": 3,
   "metadata": {},
   "outputs": [
    {
     "data": {
      "text/plain": [
       "array([[ 0.+0.j,  0.+0.j,  0.+0.j, ...,  0.+0.j,  0.+0.j,  0.+0.j],\n",
       "       [ 0.+0.j,  0.+0.j,  0.+0.j, ...,  0.+0.j,  0.+0.j,  0.+0.j],\n",
       "       [ 0.+0.j,  0.+0.j,  0.+0.j, ...,  0.+0.j,  0.+0.j,  0.+0.j],\n",
       "       ...,\n",
       "       [ 0.+0.j,  0.+0.j,  0.+0.j, ..., -2.+0.j,  0.+0.j,  0.+0.j],\n",
       "       [ 0.+0.j,  0.+0.j,  0.+0.j, ...,  0.+0.j, -2.+0.j,  0.+0.j],\n",
       "       [ 0.+0.j,  0.+0.j,  0.+0.j, ...,  0.+0.j,  0.+0.j, -2.+0.j]])"
      ]
     },
     "execution_count": 3,
     "metadata": {},
     "output_type": "execute_result"
    }
   ],
   "source": [
    "result"
   ]
  },
  {
   "cell_type": "code",
   "execution_count": null,
   "metadata": {},
   "outputs": [],
   "source": []
  }
 ],
 "metadata": {
  "kernelspec": {
   "display_name": "Python 3",
   "language": "python",
   "name": "python3"
  },
  "language_info": {
   "codemirror_mode": {
    "name": "ipython",
    "version": 3
   },
   "file_extension": ".py",
   "mimetype": "text/x-python",
   "name": "python",
   "nbconvert_exporter": "python",
   "pygments_lexer": "ipython3",
   "version": "3.7.6"
  }
 },
 "nbformat": 4,
 "nbformat_minor": 4
}
